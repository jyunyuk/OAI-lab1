{
 "cells": [
  {
   "cell_type": "markdown",
   "id": "2a0d9917",
   "metadata": {
    "toc": true
   },
   "source": [
    "<h1>Table of Contents<span class=\"tocSkip\"></span></h1>\n",
    "<div class=\"toc\"><ul class=\"toc-item\"></ul></div>"
   ]
  },
  {
   "cell_type": "code",
   "execution_count": 1,
   "id": "11a09618",
   "metadata": {},
   "outputs": [],
   "source": [
    "import mlflow\n",
    "\n",
    "from sklearn.model_selection import train_test_split\n",
    "from sklearn.datasets import load_diabetes\n",
    "from sklearn.ensemble import RandomForestRegressor"
   ]
  },
  {
   "cell_type": "code",
   "execution_count": 2,
   "id": "d4aca5e9",
   "metadata": {},
   "outputs": [
    {
     "name": "stderr",
     "output_type": "stream",
     "text": [
      "2024/02/02 00:07:30 INFO mlflow.tracking.fluent: Autologging successfully enabled for sklearn.\n",
      "2024/02/02 00:07:30 INFO mlflow.utils.autologging_utils: Created MLflow autologging run with ID '89647ac2f762415f81f920b111e07d77', which will track hyperparameters, performance metrics, model artifacts, and lineage information for the current sklearn workflow\n"
     ]
    },
    {
     "data": {
      "text/plain": [
       "RandomForestRegressor(max_depth=6, max_features=3)"
      ]
     },
     "execution_count": 2,
     "metadata": {},
     "output_type": "execute_result"
    }
   ],
   "source": [
    "mlflow.set_experiment(\"MLflow Automatic Logging\")\n",
    "mlflow.autolog()\n",
    "\n",
    "db = load_diabetes()\n",
    "X_train, X_test, y_train, y_test = train_test_split(db.data, db.target)\n",
    "\n",
    "rf = RandomForestRegressor(n_estimators=100, max_depth=6, max_features=3)\n",
    "# MLflow triggers logging automatically upon model fitting\n",
    "rf.fit(X_train, y_train)"
   ]
  },
  {
   "cell_type": "code",
   "execution_count": 3,
   "id": "9ceef150",
   "metadata": {},
   "outputs": [
    {
     "name": "stdout",
     "output_type": "stream",
     "text": [
      "[2024-02-02 00:07:35 -0500] [21178] [INFO] Starting gunicorn 21.2.0\n",
      "[2024-02-02 00:07:35 -0500] [21178] [INFO] Listening at: http://127.0.0.1:5000 (21178)\n",
      "[2024-02-02 00:07:35 -0500] [21178] [INFO] Using worker: sync\n",
      "[2024-02-02 00:07:35 -0500] [21179] [INFO] Booting worker with pid: 21179\n",
      "[2024-02-02 00:07:35 -0500] [21180] [INFO] Booting worker with pid: 21180\n",
      "[2024-02-02 00:07:35 -0500] [21181] [INFO] Booting worker with pid: 21181\n",
      "[2024-02-02 00:07:35 -0500] [21182] [INFO] Booting worker with pid: 21182\n",
      "^C\n",
      "[2024-02-02 00:08:15 -0500] [21178] [INFO] Handling signal: int\n",
      "[2024-02-02 00:08:15 -0500] [21181] [INFO] Worker exiting (pid: 21181)\n",
      "[2024-02-02 00:08:15 -0500] [21180] [INFO] Worker exiting (pid: 21180)\n",
      "[2024-02-02 00:08:15 -0500] [21179] [INFO] Worker exiting (pid: 21179)\n",
      "[2024-02-02 00:08:15 -0500] [21182] [INFO] Worker exiting (pid: 21182)\n"
     ]
    }
   ],
   "source": [
    "!mlflow ui"
   ]
  },
  {
   "cell_type": "code",
   "execution_count": null,
   "id": "e41792d9",
   "metadata": {},
   "outputs": [],
   "source": []
  }
 ],
 "metadata": {
  "kernelspec": {
   "display_name": "myenv",
   "language": "python",
   "name": "myenv"
  },
  "language_info": {
   "codemirror_mode": {
    "name": "ipython",
    "version": 3
   },
   "file_extension": ".py",
   "mimetype": "text/x-python",
   "name": "python",
   "nbconvert_exporter": "python",
   "pygments_lexer": "ipython3",
   "version": "3.9.13"
  },
  "toc": {
   "base_numbering": 1,
   "nav_menu": {},
   "number_sections": true,
   "sideBar": true,
   "skip_h1_title": false,
   "title_cell": "Table of Contents",
   "title_sidebar": "Contents",
   "toc_cell": true,
   "toc_position": {},
   "toc_section_display": true,
   "toc_window_display": false
  }
 },
 "nbformat": 4,
 "nbformat_minor": 5
}
