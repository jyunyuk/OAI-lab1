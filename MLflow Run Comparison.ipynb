{
 "cells": [
  {
   "cell_type": "markdown",
   "metadata": {
    "toc": true
   },
   "source": [
    "<h1>Table of Contents<span class=\"tocSkip\"></span></h1>\n",
    "<div class=\"toc\"><ul class=\"toc-item\"></ul></div>"
   ]
  },
  {
   "cell_type": "code",
   "execution_count": 1,
   "metadata": {},
   "outputs": [],
   "source": [
    "import keras\n",
    "import numpy as np\n",
    "import pandas as pd\n",
    "from hyperopt import STATUS_OK, Trials, fmin, hp, tpe\n",
    "from sklearn.metrics import mean_squared_error\n",
    "from sklearn.model_selection import train_test_split\n",
    "\n",
    "import mlflow\n",
    "from mlflow.models import infer_signature"
   ]
  },
  {
   "cell_type": "code",
   "execution_count": 2,
   "metadata": {},
   "outputs": [],
   "source": [
    "# Load dataset\n",
    "data = pd.read_csv(\n",
    "    \"https://raw.githubusercontent.com/mlflow/mlflow/master/tests/datasets/winequality-white.csv\",\n",
    "    sep=\";\",\n",
    ")\n",
    "\n",
    "# Split the data into training, validation, and test sets\n",
    "train, test = train_test_split(data, test_size=0.25, random_state=42)\n",
    "train_x = train.drop([\"quality\"], axis=1).values\n",
    "train_y = train[[\"quality\"]].values.ravel()\n",
    "test_x = test.drop([\"quality\"], axis=1).values\n",
    "test_y = test[[\"quality\"]].values.ravel()\n",
    "train_x, valid_x, train_y, valid_y = train_test_split(\n",
    "    train_x, train_y, test_size=0.2, random_state=42\n",
    ")\n",
    "signature = infer_signature(train_x, train_y)"
   ]
  },
  {
   "cell_type": "code",
   "execution_count": 3,
   "metadata": {},
   "outputs": [],
   "source": [
    "def train_model(params, epochs, train_x, train_y, valid_x, valid_y, test_x, test_y):\n",
    "    # Define model architecture\n",
    "    model = keras.Sequential(\n",
    "        [\n",
    "            keras.Input([train_x.shape[1]]),\n",
    "            keras.layers.Normalization(mean=np.mean(train_x), variance=np.var(train_x)),\n",
    "            keras.layers.Dense(64, activation=\"relu\"),\n",
    "            keras.layers.Dense(1),\n",
    "        ]\n",
    "    )\n",
    "\n",
    "    # Compile model\n",
    "    model.compile(\n",
    "        optimizer=keras.optimizers.SGD(\n",
    "            learning_rate=params[\"lr\"], momentum=params[\"momentum\"]\n",
    "        ),\n",
    "        loss=\"mean_squared_error\",\n",
    "        metrics=[keras.metrics.RootMeanSquaredError()],\n",
    "    )\n",
    "\n",
    "    # Train model with MLflow tracking\n",
    "    with mlflow.start_run(nested=True):\n",
    "        model.fit(\n",
    "            train_x,\n",
    "            train_y,\n",
    "            validation_data=(valid_x, valid_y),\n",
    "            epochs=epochs,\n",
    "            batch_size=64,\n",
    "        )\n",
    "        # Evaluate the model\n",
    "        eval_result = model.evaluate(valid_x, valid_y, batch_size=64)\n",
    "        eval_rmse = eval_result[1]\n",
    "\n",
    "        # Log parameters and results\n",
    "        mlflow.log_params(params)\n",
    "        mlflow.log_metric(\"eval_rmse\", eval_rmse)\n",
    "\n",
    "        # Log model\n",
    "        mlflow.tensorflow.log_model(model, \"model\", signature=signature)\n",
    "\n",
    "        return {\"loss\": eval_rmse, \"status\": STATUS_OK, \"model\": model}"
   ]
  },
  {
   "cell_type": "code",
   "execution_count": 4,
   "metadata": {},
   "outputs": [],
   "source": [
    "def objective(params):\n",
    "    # MLflow will track the parameters and results for each run\n",
    "    with mlflow.start_run():\n",
    "        result = train_model(\n",
    "            params,\n",
    "            epochs=3,\n",
    "            train_x=train_x,\n",
    "            train_y=train_y,\n",
    "            valid_x=valid_x,\n",
    "            valid_y=valid_y,\n",
    "            test_x=test_x,\n",
    "            test_y=test_y,\n",
    "        )\n",
    "        mlflow.log_params(params)\n",
    "        mlflow.log_metric('eval_rmse', result['loss'])\n",
    "        mlflow.tensorflow.log_model(result[\"model\"], \"model\", signature=signature)\n",
    "        return result"
   ]
  },
  {
   "cell_type": "code",
   "execution_count": 5,
   "metadata": {},
   "outputs": [],
   "source": [
    "space = {\n",
    "    \"lr\": hp.loguniform(\"lr\", np.log(1e-5), np.log(1e-1)),\n",
    "    \"momentum\": hp.uniform(\"momentum\", 0.0, 1.0),\n",
    "}"
   ]
  },
  {
   "cell_type": "code",
   "execution_count": 6,
   "metadata": {},
   "outputs": [
    {
     "name": "stderr",
     "output_type": "stream",
     "text": [
      "2024/02/02 00:08:48 INFO mlflow.tracking.fluent: Experiment with name '/wine-quality' does not exist. Creating a new experiment.\n"
     ]
    },
    {
     "name": "stdout",
     "output_type": "stream",
     "text": [
      "\r",
      "  0%|                                     | 0/8 [00:00<?, ?trial/s, best loss=?]"
     ]
    },
    {
     "name": "stderr",
     "output_type": "stream",
     "text": [
      "WARNING:absl:At this time, the v2.11+ optimizer `tf.keras.optimizers.SGD` runs slowly on M1/M2 Macs, please use the legacy Keras optimizer instead, located at `tf.keras.optimizers.legacy.SGD`.\n",
      "\n"
     ]
    },
    {
     "name": "stdout",
     "output_type": "stream",
     "text": [
      "Epoch 1/3                                                                       \n",
      "\n",
      " 1/46 [..............................] - ETA: 11s - loss: 43.1769 - root_mean_squared_error: 6.5709\n",
      "46/46 [==============================] - 0s 3ms/step - loss: 6.2528 - root_mean_squared_error: 2.5006 - val_loss: 0.8726 - val_root_mean_squared_error: 0.9341\n",
      "\n",
      "Epoch 2/3                                                                       \n",
      "\n",
      " 1/46 [..............................] - ETA: 0s - loss: 0.9008 - root_mean_squared_error: 0.9491\n",
      "46/46 [==============================] - 0s 962us/step - loss: 0.7999 - root_mean_squared_error: 0.8944 - val_loss: 0.7457 - val_root_mean_squared_error: 0.8636\n",
      "\n",
      "Epoch 3/3                                                                       \n",
      "\n",
      " 1/46 [..............................] - ETA: 0s - loss: 0.7087 - root_mean_squared_error: 0.8419\n",
      "46/46 [==============================] - 0s 930us/step - loss: 0.7732 - root_mean_squared_error: 0.8793 - val_loss: 0.7486 - val_root_mean_squared_error: 0.8652\n",
      "\n",
      " 1/12 [=>............................] - ETA: 0s - loss: 0.7248 - root_mean_squared_error: 0.8513\n",
      "12/12 [==============================] - 0s 831us/step - loss: 0.7486 - root_mean_squared_error: 0.8652\n",
      "\n",
      "  0%|                                     | 0/8 [00:00<?, ?trial/s, best loss=?]INFO:tensorflow:Assets written to: /var/folders/43/zgw1tdw96479k4wmj51vd58h0000gn/T/tmpjqwkecr4/model/data/model/assets\n"
     ]
    },
    {
     "name": "stderr",
     "output_type": "stream",
     "text": [
      "INFO:tensorflow:Assets written to: /var/folders/43/zgw1tdw96479k4wmj51vd58h0000gn/T/tmpjqwkecr4/model/data/model/assets\n",
      "\n"
     ]
    },
    {
     "name": "stdout",
     "output_type": "stream",
     "text": [
      "INFO:tensorflow:Assets written to: /var/folders/43/zgw1tdw96479k4wmj51vd58h0000gn/T/tmp_2xm1irw/model/data/model/assets\n"
     ]
    },
    {
     "name": "stderr",
     "output_type": "stream",
     "text": [
      "INFO:tensorflow:Assets written to: /var/folders/43/zgw1tdw96479k4wmj51vd58h0000gn/T/tmp_2xm1irw/model/data/model/assets\n",
      "\n"
     ]
    },
    {
     "name": "stdout",
     "output_type": "stream",
     "text": [
      "\r",
      " 12%|█▍         | 1/8 [00:12<01:27, 12.56s/trial, best loss: 0.8652371764183044]"
     ]
    },
    {
     "name": "stderr",
     "output_type": "stream",
     "text": [
      "WARNING:absl:At this time, the v2.11+ optimizer `tf.keras.optimizers.SGD` runs slowly on M1/M2 Macs, please use the legacy Keras optimizer instead, located at `tf.keras.optimizers.legacy.SGD`.\n",
      "\n"
     ]
    },
    {
     "name": "stdout",
     "output_type": "stream",
     "text": [
      "Epoch 1/3                                                                       \n",
      "\n",
      " 1/46 [..............................] - ETA: 10s - loss: 25.7201 - root_mean_squared_error: 5.0715\n",
      "46/46 [==============================] - 0s 3ms/step - loss: 23.9568 - root_mean_squared_error: 4.8946 - val_loss: 23.0248 - val_root_mean_squared_error: 4.7984\n",
      "\n",
      "Epoch 2/3                                                                       \n",
      "\n",
      " 1/46 [..............................] - ETA: 0s - loss: 22.7872 - root_mean_squared_error: 4.7736\n",
      "46/46 [==============================] - 0s 931us/step - loss: 21.5739 - root_mean_squared_error: 4.6448 - val_loss: 20.8027 - val_root_mean_squared_error: 4.5610\n",
      "\n",
      "Epoch 3/3                                                                       \n",
      "\n",
      " 1/46 [..............................] - ETA: 0s - loss: 19.1634 - root_mean_squared_error: 4.3776\n",
      "46/46 [==============================] - 0s 931us/step - loss: 19.4463 - root_mean_squared_error: 4.4098 - val_loss: 18.8086 - val_root_mean_squared_error: 4.3369\n",
      "\n",
      " 1/12 [=>............................] - ETA: 0s - loss: 18.1806 - root_mean_squared_error: 4.2639\n",
      "12/12 [==============================] - 0s 830us/step - loss: 18.8086 - root_mean_squared_error: 4.3369\n",
      "\n",
      " 12%|█▍         | 1/8 [00:13<01:27, 12.56s/trial, best loss: 0.8652371764183044]INFO:tensorflow:Assets written to: /var/folders/43/zgw1tdw96479k4wmj51vd58h0000gn/T/tmp9nm4esc6/model/data/model/assets\n"
     ]
    },
    {
     "name": "stderr",
     "output_type": "stream",
     "text": [
      "INFO:tensorflow:Assets written to: /var/folders/43/zgw1tdw96479k4wmj51vd58h0000gn/T/tmp9nm4esc6/model/data/model/assets\n",
      "\n"
     ]
    },
    {
     "name": "stdout",
     "output_type": "stream",
     "text": [
      "INFO:tensorflow:Assets written to: /var/folders/43/zgw1tdw96479k4wmj51vd58h0000gn/T/tmpfbalt77u/model/data/model/assets\n"
     ]
    },
    {
     "name": "stderr",
     "output_type": "stream",
     "text": [
      "INFO:tensorflow:Assets written to: /var/folders/43/zgw1tdw96479k4wmj51vd58h0000gn/T/tmpfbalt77u/model/data/model/assets\n",
      "\n"
     ]
    },
    {
     "name": "stdout",
     "output_type": "stream",
     "text": [
      "\r",
      " 25%|██▊        | 2/8 [00:23<01:10, 11.69s/trial, best loss: 0.8652371764183044]"
     ]
    },
    {
     "name": "stderr",
     "output_type": "stream",
     "text": [
      "WARNING:absl:At this time, the v2.11+ optimizer `tf.keras.optimizers.SGD` runs slowly on M1/M2 Macs, please use the legacy Keras optimizer instead, located at `tf.keras.optimizers.legacy.SGD`.\n",
      "\n"
     ]
    },
    {
     "name": "stdout",
     "output_type": "stream",
     "text": [
      "Epoch 1/3                                                                       \n",
      "\n",
      " 1/46 [..............................] - ETA: 10s - loss: 32.5330 - root_mean_squared_error: 5.7038\n",
      "46/46 [==============================] - 0s 3ms/step - loss: 5.7594 - root_mean_squared_error: 2.3999 - val_loss: 2.5934 - val_root_mean_squared_error: 1.6104\n",
      "\n",
      "Epoch 2/3                                                                       \n",
      "\n",
      " 1/46 [..............................] - ETA: 0s - loss: 2.5910 - root_mean_squared_error: 1.6096\n",
      "46/46 [==============================] - 0s 927us/step - loss: 2.0129 - root_mean_squared_error: 1.4188 - val_loss: 1.6266 - val_root_mean_squared_error: 1.2754\n",
      "\n",
      "Epoch 3/3                                                                       \n",
      "\n",
      " 1/46 [..............................] - ETA: 0s - loss: 1.2887 - root_mean_squared_error: 1.1352\n",
      "46/46 [==============================] - 0s 933us/step - loss: 1.3076 - root_mean_squared_error: 1.1435 - val_loss: 1.1171 - val_root_mean_squared_error: 1.0569\n",
      "\n",
      " 1/12 [=>............................] - ETA: 0s - loss: 1.0884 - root_mean_squared_error: 1.0433\n",
      "12/12 [==============================] - 0s 810us/step - loss: 1.1171 - root_mean_squared_error: 1.0569\n",
      "\n",
      " 25%|██▊        | 2/8 [00:24<01:10, 11.69s/trial, best loss: 0.8652371764183044]INFO:tensorflow:Assets written to: /var/folders/43/zgw1tdw96479k4wmj51vd58h0000gn/T/tmpscqmzy53/model/data/model/assets\n"
     ]
    },
    {
     "name": "stderr",
     "output_type": "stream",
     "text": [
      "INFO:tensorflow:Assets written to: /var/folders/43/zgw1tdw96479k4wmj51vd58h0000gn/T/tmpscqmzy53/model/data/model/assets\n",
      "\n"
     ]
    },
    {
     "name": "stdout",
     "output_type": "stream",
     "text": [
      "INFO:tensorflow:Assets written to: /var/folders/43/zgw1tdw96479k4wmj51vd58h0000gn/T/tmp4wh1al_p/model/data/model/assets\n"
     ]
    },
    {
     "name": "stderr",
     "output_type": "stream",
     "text": [
      "INFO:tensorflow:Assets written to: /var/folders/43/zgw1tdw96479k4wmj51vd58h0000gn/T/tmp4wh1al_p/model/data/model/assets\n",
      "\n"
     ]
    },
    {
     "name": "stdout",
     "output_type": "stream",
     "text": [
      "\r",
      " 38%|████▏      | 3/8 [00:34<00:56, 11.36s/trial, best loss: 0.8652371764183044]"
     ]
    },
    {
     "name": "stderr",
     "output_type": "stream",
     "text": [
      "WARNING:absl:At this time, the v2.11+ optimizer `tf.keras.optimizers.SGD` runs slowly on M1/M2 Macs, please use the legacy Keras optimizer instead, located at `tf.keras.optimizers.legacy.SGD`.\n",
      "\n"
     ]
    },
    {
     "name": "stdout",
     "output_type": "stream",
     "text": [
      "Epoch 1/3                                                                       \n",
      "\n",
      " 1/46 [..............................] - ETA: 10s - loss: 39.3057 - root_mean_squared_error: 6.2694\n",
      "46/46 [==============================] - 0s 3ms/step - loss: 15.2656 - root_mean_squared_error: 3.9071 - val_loss: 0.7757 - val_root_mean_squared_error: 0.8807\n",
      "\n",
      "Epoch 2/3                                                                       \n",
      "\n",
      " 1/46 [..............................] - ETA: 0s - loss: 1.0734 - root_mean_squared_error: 1.0360\n",
      "46/46 [==============================] - 0s 930us/step - loss: 0.8116 - root_mean_squared_error: 0.9009 - val_loss: 0.8083 - val_root_mean_squared_error: 0.8991\n",
      "\n",
      "Epoch 3/3                                                                       \n",
      "\n",
      " 1/46 [..............................] - ETA: 0s - loss: 0.8885 - root_mean_squared_error: 0.9426\n",
      "46/46 [==============================] - 0s 861us/step - loss: 0.7755 - root_mean_squared_error: 0.8806 - val_loss: 0.7655 - val_root_mean_squared_error: 0.8749\n",
      "\n",
      " 1/12 [=>............................] - ETA: 0s - loss: 0.7248 - root_mean_squared_error: 0.8514\n",
      "12/12 [==============================] - 0s 742us/step - loss: 0.7655 - root_mean_squared_error: 0.8749\n",
      "\n",
      " 38%|████▏      | 3/8 [00:35<00:56, 11.36s/trial, best loss: 0.8652371764183044]INFO:tensorflow:Assets written to: /var/folders/43/zgw1tdw96479k4wmj51vd58h0000gn/T/tmpbmmjmvzb/model/data/model/assets\n"
     ]
    },
    {
     "name": "stderr",
     "output_type": "stream",
     "text": [
      "INFO:tensorflow:Assets written to: /var/folders/43/zgw1tdw96479k4wmj51vd58h0000gn/T/tmpbmmjmvzb/model/data/model/assets\n",
      "\n"
     ]
    },
    {
     "name": "stdout",
     "output_type": "stream",
     "text": [
      "INFO:tensorflow:Assets written to: /var/folders/43/zgw1tdw96479k4wmj51vd58h0000gn/T/tmpnezkknu6/model/data/model/assets\n"
     ]
    },
    {
     "name": "stderr",
     "output_type": "stream",
     "text": [
      "INFO:tensorflow:Assets written to: /var/folders/43/zgw1tdw96479k4wmj51vd58h0000gn/T/tmpnezkknu6/model/data/model/assets\n",
      "\n"
     ]
    },
    {
     "name": "stdout",
     "output_type": "stream",
     "text": [
      "\r",
      " 50%|█████▌     | 4/8 [00:45<00:44, 11.11s/trial, best loss: 0.8652371764183044]"
     ]
    },
    {
     "name": "stderr",
     "output_type": "stream",
     "text": [
      "WARNING:absl:At this time, the v2.11+ optimizer `tf.keras.optimizers.SGD` runs slowly on M1/M2 Macs, please use the legacy Keras optimizer instead, located at `tf.keras.optimizers.legacy.SGD`.\n",
      "\n"
     ]
    },
    {
     "name": "stdout",
     "output_type": "stream",
     "text": [
      "Epoch 1/3                                                                       \n",
      "\n",
      " 1/46 [..............................] - ETA: 18s - loss: 35.5123 - root_mean_squared_error: 5.9592\n",
      "46/46 [==============================] - 1s 3ms/step - loss: 32.3323 - root_mean_squared_error: 5.6862 - val_loss: 28.1574 - val_root_mean_squared_error: 5.3064\n",
      "\n",
      "Epoch 2/3                                                                       \n",
      "\n",
      " 1/46 [..............................] - ETA: 0s - loss: 27.6154 - root_mean_squared_error: 5.2550\n",
      "46/46 [==============================] - 0s 915us/step - loss: 24.4261 - root_mean_squared_error: 4.9423 - val_loss: 21.4344 - val_root_mean_squared_error: 4.6297\n",
      "\n",
      "Epoch 3/3                                                                       \n",
      "\n",
      " 1/46 [..............................] - ETA: 0s - loss: 19.9596 - root_mean_squared_error: 4.4676\n",
      "46/46 [==============================] - 0s 865us/step - loss: 18.3784 - root_mean_squared_error: 4.2870 - val_loss: 16.0756 - val_root_mean_squared_error: 4.0094\n",
      "\n",
      " 1/12 [=>............................] - ETA: 0s - loss: 15.4167 - root_mean_squared_error: 3.9264\n",
      "12/12 [==============================] - 0s 731us/step - loss: 16.0756 - root_mean_squared_error: 4.0094\n",
      "\n",
      " 50%|█████▌     | 4/8 [00:46<00:44, 11.11s/trial, best loss: 0.8652371764183044]INFO:tensorflow:Assets written to: /var/folders/43/zgw1tdw96479k4wmj51vd58h0000gn/T/tmpa5hzu397/model/data/model/assets\n"
     ]
    },
    {
     "name": "stderr",
     "output_type": "stream",
     "text": [
      "INFO:tensorflow:Assets written to: /var/folders/43/zgw1tdw96479k4wmj51vd58h0000gn/T/tmpa5hzu397/model/data/model/assets\n",
      "\n"
     ]
    },
    {
     "name": "stdout",
     "output_type": "stream",
     "text": [
      "INFO:tensorflow:Assets written to: /var/folders/43/zgw1tdw96479k4wmj51vd58h0000gn/T/tmp1h9zcjek/model/data/model/assets\n"
     ]
    },
    {
     "name": "stderr",
     "output_type": "stream",
     "text": [
      "INFO:tensorflow:Assets written to: /var/folders/43/zgw1tdw96479k4wmj51vd58h0000gn/T/tmp1h9zcjek/model/data/model/assets\n",
      "\n"
     ]
    },
    {
     "name": "stdout",
     "output_type": "stream",
     "text": [
      "\r",
      " 62%|██████▉    | 5/8 [00:56<00:33, 11.03s/trial, best loss: 0.8652371764183044]"
     ]
    },
    {
     "name": "stderr",
     "output_type": "stream",
     "text": [
      "WARNING:absl:At this time, the v2.11+ optimizer `tf.keras.optimizers.SGD` runs slowly on M1/M2 Macs, please use the legacy Keras optimizer instead, located at `tf.keras.optimizers.legacy.SGD`.\n",
      "\n"
     ]
    },
    {
     "name": "stdout",
     "output_type": "stream",
     "text": [
      "Epoch 1/3                                                                       \n",
      "\n",
      " 1/46 [..............................] - ETA: 10s - loss: 31.4241 - root_mean_squared_error: 5.6057\n",
      "46/46 [==============================] - 1s 7ms/step - loss: 15.2925 - root_mean_squared_error: 3.9106 - val_loss: 0.7819 - val_root_mean_squared_error: 0.8843\n",
      "\n",
      "Epoch 2/3                                                                       \n",
      "\n",
      " 1/46 [..............................] - ETA: 0s - loss: 0.8676 - root_mean_squared_error: 0.9315\n",
      "46/46 [==============================] - 0s 916us/step - loss: 0.7883 - root_mean_squared_error: 0.8878 - val_loss: 0.7797 - val_root_mean_squared_error: 0.8830\n",
      "\n",
      "Epoch 3/3                                                                       \n",
      "\n",
      " 1/46 [..............................] - ETA: 0s - loss: 0.9582 - root_mean_squared_error: 0.9789\n",
      "46/46 [==============================] - 0s 862us/step - loss: 0.7874 - root_mean_squared_error: 0.8873 - val_loss: 0.7780 - val_root_mean_squared_error: 0.8820\n",
      "\n",
      " 1/12 [=>............................] - ETA: 0s - loss: 0.7430 - root_mean_squared_error: 0.8620\n",
      "12/12 [==============================] - 0s 739us/step - loss: 0.7780 - root_mean_squared_error: 0.8820\n",
      "\n",
      " 62%|██████▉    | 5/8 [00:56<00:33, 11.03s/trial, best loss: 0.8652371764183044]INFO:tensorflow:Assets written to: /var/folders/43/zgw1tdw96479k4wmj51vd58h0000gn/T/tmprrlhaj7b/model/data/model/assets\n"
     ]
    },
    {
     "name": "stderr",
     "output_type": "stream",
     "text": [
      "INFO:tensorflow:Assets written to: /var/folders/43/zgw1tdw96479k4wmj51vd58h0000gn/T/tmprrlhaj7b/model/data/model/assets\n",
      "\n"
     ]
    },
    {
     "name": "stdout",
     "output_type": "stream",
     "text": [
      "INFO:tensorflow:Assets written to: /var/folders/43/zgw1tdw96479k4wmj51vd58h0000gn/T/tmpj20_2u0v/model/data/model/assets\n"
     ]
    },
    {
     "name": "stderr",
     "output_type": "stream",
     "text": [
      "INFO:tensorflow:Assets written to: /var/folders/43/zgw1tdw96479k4wmj51vd58h0000gn/T/tmpj20_2u0v/model/data/model/assets\n",
      "\n"
     ]
    },
    {
     "name": "stdout",
     "output_type": "stream",
     "text": [
      "\r",
      " 75%|████████▎  | 6/8 [01:07<00:21, 10.98s/trial, best loss: 0.8652371764183044]"
     ]
    },
    {
     "name": "stderr",
     "output_type": "stream",
     "text": [
      "WARNING:absl:At this time, the v2.11+ optimizer `tf.keras.optimizers.SGD` runs slowly on M1/M2 Macs, please use the legacy Keras optimizer instead, located at `tf.keras.optimizers.legacy.SGD`.\n",
      "\n"
     ]
    },
    {
     "name": "stdout",
     "output_type": "stream",
     "text": [
      "Epoch 1/3                                                                       \n",
      "\n",
      " 1/46 [..............................] - ETA: 10s - loss: 47.6182 - root_mean_squared_error: 6.9006\n",
      "46/46 [==============================] - 0s 3ms/step - loss: 3.4708 - root_mean_squared_error: 1.8630 - val_loss: 1.0807 - val_root_mean_squared_error: 1.0396\n",
      "\n",
      "Epoch 2/3                                                                       \n",
      "\n",
      " 1/46 [..............................] - ETA: 0s - loss: 1.2369 - root_mean_squared_error: 1.1122\n",
      "46/46 [==============================] - 0s 932us/step - loss: 0.9141 - root_mean_squared_error: 0.9561 - val_loss: 0.7933 - val_root_mean_squared_error: 0.8907\n",
      "\n",
      "Epoch 3/3                                                                       \n",
      "\n",
      " 1/46 [..............................] - ETA: 0s - loss: 0.7549 - root_mean_squared_error: 0.8688\n",
      "46/46 [==============================] - 0s 863us/step - loss: 0.8122 - root_mean_squared_error: 0.9012 - val_loss: 0.7599 - val_root_mean_squared_error: 0.8717\n",
      "\n",
      " 1/12 [=>............................] - ETA: 0s - loss: 0.7482 - root_mean_squared_error: 0.8650\n",
      "12/12 [==============================] - 0s 728us/step - loss: 0.7599 - root_mean_squared_error: 0.8717\n",
      "\n",
      " 75%|████████▎  | 6/8 [01:07<00:21, 10.98s/trial, best loss: 0.8652371764183044]INFO:tensorflow:Assets written to: /var/folders/43/zgw1tdw96479k4wmj51vd58h0000gn/T/tmp3jddsojk/model/data/model/assets\n"
     ]
    },
    {
     "name": "stderr",
     "output_type": "stream",
     "text": [
      "INFO:tensorflow:Assets written to: /var/folders/43/zgw1tdw96479k4wmj51vd58h0000gn/T/tmp3jddsojk/model/data/model/assets\n",
      "\n"
     ]
    },
    {
     "name": "stdout",
     "output_type": "stream",
     "text": [
      "INFO:tensorflow:Assets written to: /var/folders/43/zgw1tdw96479k4wmj51vd58h0000gn/T/tmp4r3v5utg/model/data/model/assets\n"
     ]
    },
    {
     "name": "stderr",
     "output_type": "stream",
     "text": [
      "INFO:tensorflow:Assets written to: /var/folders/43/zgw1tdw96479k4wmj51vd58h0000gn/T/tmp4r3v5utg/model/data/model/assets\n",
      "\n"
     ]
    },
    {
     "name": "stdout",
     "output_type": "stream",
     "text": [
      "\r",
      " 88%|█████████▋ | 7/8 [01:17<00:10, 10.92s/trial, best loss: 0.8652371764183044]"
     ]
    },
    {
     "name": "stderr",
     "output_type": "stream",
     "text": [
      "WARNING:absl:At this time, the v2.11+ optimizer `tf.keras.optimizers.SGD` runs slowly on M1/M2 Macs, please use the legacy Keras optimizer instead, located at `tf.keras.optimizers.legacy.SGD`.\n",
      "\n"
     ]
    },
    {
     "name": "stdout",
     "output_type": "stream",
     "text": [
      "Epoch 1/3                                                                       \n",
      "\n",
      " 1/46 [..............................] - ETA: 10s - loss: 45.2687 - root_mean_squared_error: 6.7282\n",
      "46/46 [==============================] - 0s 3ms/step - loss: 32.5055 - root_mean_squared_error: 5.7014 - val_loss: 19.1683 - val_root_mean_squared_error: 4.3782\n",
      "\n",
      "Epoch 2/3                                                                       \n",
      "\n",
      " 1/46 [..............................] - ETA: 0s - loss: 18.1970 - root_mean_squared_error: 4.2658\n",
      "46/46 [==============================] - 0s 926us/step - loss: 11.4027 - root_mean_squared_error: 3.3768 - val_loss: 6.3447 - val_root_mean_squared_error: 2.5189\n",
      "\n",
      "Epoch 3/3                                                                       \n",
      "\n",
      " 1/46 [..............................] - ETA: 0s - loss: 5.6448 - root_mean_squared_error: 2.3759\n",
      "46/46 [==============================] - 0s 871us/step - loss: 4.2490 - root_mean_squared_error: 2.0613 - val_loss: 3.6237 - val_root_mean_squared_error: 1.9036\n",
      "\n",
      " 1/12 [=>............................] - ETA: 0s - loss: 3.1008 - root_mean_squared_error: 1.7609\n",
      "12/12 [==============================] - 0s 735us/step - loss: 3.6237 - root_mean_squared_error: 1.9036\n",
      "\n",
      " 88%|█████████▋ | 7/8 [01:18<00:10, 10.92s/trial, best loss: 0.8652371764183044]INFO:tensorflow:Assets written to: /var/folders/43/zgw1tdw96479k4wmj51vd58h0000gn/T/tmpcpxwyarr/model/data/model/assets\n"
     ]
    },
    {
     "name": "stderr",
     "output_type": "stream",
     "text": [
      "INFO:tensorflow:Assets written to: /var/folders/43/zgw1tdw96479k4wmj51vd58h0000gn/T/tmpcpxwyarr/model/data/model/assets\n",
      "\n"
     ]
    },
    {
     "name": "stdout",
     "output_type": "stream",
     "text": [
      "INFO:tensorflow:Assets written to: /var/folders/43/zgw1tdw96479k4wmj51vd58h0000gn/T/tmpi9gwc7kg/model/data/model/assets\n"
     ]
    },
    {
     "name": "stderr",
     "output_type": "stream",
     "text": [
      "INFO:tensorflow:Assets written to: /var/folders/43/zgw1tdw96479k4wmj51vd58h0000gn/T/tmpi9gwc7kg/model/data/model/assets\n",
      "\n"
     ]
    },
    {
     "name": "stdout",
     "output_type": "stream",
     "text": [
      "100%|███████████| 8/8 [01:28<00:00, 11.11s/trial, best loss: 0.8652371764183044]\n",
      "INFO:tensorflow:Assets written to: /var/folders/43/zgw1tdw96479k4wmj51vd58h0000gn/T/tmpx2i40v9r/model/data/model/assets\n"
     ]
    },
    {
     "name": "stderr",
     "output_type": "stream",
     "text": [
      "INFO:tensorflow:Assets written to: /var/folders/43/zgw1tdw96479k4wmj51vd58h0000gn/T/tmpx2i40v9r/model/data/model/assets\n",
      "\n"
     ]
    },
    {
     "name": "stdout",
     "output_type": "stream",
     "text": [
      "Best parameters: {'lr': 0.05544611489404935, 'momentum': 0.010745082016461627}\n",
      "Best eval rmse: 0.8652371764183044\n"
     ]
    }
   ],
   "source": [
    "# Set the MLflow experiment name\n",
    "mlflow.set_experiment(\"/wine-quality\")\n",
    "\n",
    "# Conduct the hyperparameter search using Hyperopt\n",
    "trials = Trials()\n",
    "best = fmin(\n",
    "    fn=objective,\n",
    "    space=space,\n",
    "    algo=tpe.suggest,\n",
    "    max_evals=8,\n",
    "    trials=trials,\n",
    ")\n",
    "\n",
    "# Fetch the details of the best run\n",
    "best_run = sorted(trials.results, key=lambda x: x[\"loss\"])[0]\n",
    "\n",
    "# Log the best parameters and loss outside of the 'objective' function\n",
    "with mlflow.start_run():\n",
    "    mlflow.log_params(best)\n",
    "    mlflow.log_metric(\"best_loss\", best_run[\"loss\"])\n",
    "    mlflow.tensorflow.log_model(best_run[\"model\"], \"best_model\", signature=signature)\n",
    "\n",
    "# Print out the best parameters and corresponding loss\n",
    "print(f\"Best parameters: {best}\")\n",
    "print(f\"Best eval rmse: {best_run['loss']}\")"
   ]
  },
  {
   "cell_type": "code",
   "execution_count": 7,
   "metadata": {
    "scrolled": true
   },
   "outputs": [
    {
     "name": "stdout",
     "output_type": "stream",
     "text": [
      "[2024-02-02 00:10:46 -0500] [21245] [INFO] Starting gunicorn 21.2.0\n",
      "[2024-02-02 00:10:46 -0500] [21245] [INFO] Listening at: http://127.0.0.1:5000 (21245)\n",
      "[2024-02-02 00:10:46 -0500] [21245] [INFO] Using worker: sync\n",
      "[2024-02-02 00:10:46 -0500] [21246] [INFO] Booting worker with pid: 21246\n",
      "[2024-02-02 00:10:46 -0500] [21247] [INFO] Booting worker with pid: 21247\n",
      "[2024-02-02 00:10:46 -0500] [21248] [INFO] Booting worker with pid: 21248\n",
      "[2024-02-02 00:10:46 -0500] [21249] [INFO] Booting worker with pid: 21249\n",
      "^C\n",
      "[2024-02-02 00:14:07 -0500] [21245] [INFO] Handling signal: int\n",
      "[2024-02-02 00:14:07 -0500] [21249] [INFO] Worker exiting (pid: 21249)\n",
      "[2024-02-02 00:14:07 -0500] [21246] [INFO] Worker exiting (pid: 21246)\n",
      "[2024-02-02 00:14:07 -0500] [21248] [INFO] Worker exiting (pid: 21248)\n",
      "[2024-02-02 00:14:07 -0500] [21247] [INFO] Worker exiting (pid: 21247)\n"
     ]
    }
   ],
   "source": [
    "!mlflow ui"
   ]
  },
  {
   "cell_type": "code",
   "execution_count": null,
   "metadata": {},
   "outputs": [],
   "source": []
  }
 ],
 "metadata": {
  "kernelspec": {
   "display_name": "myenv",
   "language": "python",
   "name": "myenv"
  },
  "language_info": {
   "codemirror_mode": {
    "name": "ipython",
    "version": 3
   },
   "file_extension": ".py",
   "mimetype": "text/x-python",
   "name": "python",
   "nbconvert_exporter": "python",
   "pygments_lexer": "ipython3",
   "version": "3.9.13"
  },
  "toc": {
   "base_numbering": 1,
   "nav_menu": {},
   "number_sections": true,
   "sideBar": true,
   "skip_h1_title": false,
   "title_cell": "Table of Contents",
   "title_sidebar": "Contents",
   "toc_cell": true,
   "toc_position": {
    "height": "calc(100% - 180px)",
    "left": "10px",
    "top": "150px",
    "width": "165px"
   },
   "toc_section_display": true,
   "toc_window_display": true
  }
 },
 "nbformat": 4,
 "nbformat_minor": 2
}
